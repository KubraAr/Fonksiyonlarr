{
 "cells": [
  {
   "cell_type": "code",
   "execution_count": 3,
   "id": "3203e1ab-02b7-4e4e-974b-b4b3640e544d",
   "metadata": {},
   "outputs": [
    {
     "name": "stdout",
     "output_type": "stream",
     "text": [
      "Merhaba, Python!\n"
     ]
    }
   ],
   "source": [
    "#Soru1:\n",
    "def merhaba_de():\n",
    "  print(\"Merhaba, Python!\")\n",
    "    \n",
    "merhaba_de()"
   ]
  },
  {
   "cell_type": "code",
   "execution_count": 5,
   "id": "7479b795-ccef-4cc4-8a8d-470c4b374f61",
   "metadata": {},
   "outputs": [
    {
     "name": "stdout",
     "output_type": "stream",
     "text": [
      "Tam adınız: Ömer Doğan\n",
      "Tam adınız: Kübra Ar\n"
     ]
    }
   ],
   "source": [
    "#Soru2:\n",
    "def ad_yazdir(isim, soyisim):\n",
    "  tam_ad = isim + \" \" + soyisim\n",
    "  print(\"Tam adınız:\", tam_ad)\n",
    "\n",
    "ad_yazdir(\"Ömer\", \"Doğan\")\n",
    "ad_yazdir(\"Kübra\", \"Ar\")"
   ]
  },
  {
   "cell_type": "code",
   "execution_count": 10,
   "id": "c40cac17-bc48-401a-88ef-af01d59ad63c",
   "metadata": {},
   "outputs": [
    {
     "name": "stdout",
     "output_type": "stream",
     "text": [
      "Listedeki tek sayılar: [1, 15, 25, 35]\n"
     ]
    }
   ],
   "source": [
    "#Soru3:\n",
    "def teksayilar(sayilar):\n",
    "  tek_sayilar = []\n",
    "  for sayi in sayilar:\n",
    "    if sayi % 2 != 0:\n",
    "      tek_sayilar.append(sayi)\n",
    "  return tek_sayilar\n",
    "\n",
    "sayilar = [1, 15, 2, 25, 4, 35]\n",
    "\n",
    "tek_sayilar = teksayilar(sayilar)\n",
    "print(\"Listedeki tek sayılar:\", tek_sayilar)"
   ]
  },
  {
   "cell_type": "code",
   "execution_count": 16,
   "id": "28572ff0-54e3-4e3b-97fa-d991c5df4bdc",
   "metadata": {},
   "outputs": [
    {
     "name": "stdout",
     "output_type": "stream",
     "text": [
      "Toplam: 155\n",
      "Bölme: 1.8181818181818181\n",
      "Çarpma: 5500\n",
      "Çıkarma: 45\n",
      "Mod: 45\n"
     ]
    }
   ],
   "source": [
    "#Soru4:\n",
    "def topla(sayi1, sayi2):\n",
    "  return sayi1 + sayi2\n",
    "\n",
    "def bolme(sayi1, sayi2):\n",
    "  if sayi2 == 0:\n",
    "    return \"Bölen kısım 0 olamaz\"\n",
    "  else:\n",
    "    return sayi1 / sayi2\n",
    "\n",
    "def carpma(sayi1, sayi2):\n",
    "  return sayi1 * sayi2\n",
    "    \n",
    "def cikarma(sayi1, sayi2):\n",
    "  return sayi1 - sayi2\n",
    "\n",
    "def mod(sayi1, sayi2):\n",
    "  return sayi1 % sayi2\n",
    "\n",
    "sayi1 = 100\n",
    "sayi2 = 55\n",
    "\n",
    "print(\"Toplam:\", topla(sayi1, sayi2))\n",
    "print(\"Bölme:\", bolme(sayi1, sayi2))\n",
    "print(\"Çarpma:\", carpma(sayi1, sayi2))\n",
    "print(\"Çıkarma:\", cikarma(sayi1, sayi2))\n",
    "print(\"Mod:\", mod(sayi1, sayi2))\n"
   ]
  },
  {
   "cell_type": "code",
   "execution_count": 1,
   "id": "71a46cdd-eef5-40a2-ae27-93587c5b45dd",
   "metadata": {},
   "outputs": [
    {
     "name": "stdout",
     "output_type": "stream",
     "text": [
      "Ters: ivedÖ ralnoyisknoF\n",
      "Büyük: FONKSIYONLAR ÖDEVI\n",
      "Küçük: fonksiyonlar ödevi\n",
      "Uzunluk: 18\n",
      "Geçersiz: Geçersiz işlem\n"
     ]
    }
   ],
   "source": [
    "#Soru5:\n",
    "def islemler(metin, islem_tipi):\n",
    "\n",
    "  if islem_tipi == \"ters\":\n",
    "    return metin[::-1] #Metni ters cevirir\n",
    "\n",
    "  elif islem_tipi == \"buyuk\":\n",
    "    return metin.upper() #Tum harfler buyuk\n",
    "  elif islem_tipi == \"kucuk\":\n",
    "      \n",
    "    return metin.lower() #Tum harfler kuçuk\n",
    "  elif islem_tipi == \"uzunluk\":\n",
    "      return len(metin) #Metnin uzunlugu\n",
    "      \n",
    "  else:\n",
    "    return \"Geçersiz işlem\"\n",
    "\n",
    "\n",
    "metin = \"Fonksiyonlar Ödevi\"\n",
    "\n",
    "print(\"Ters:\", islemler(metin, \"ters\"))\n",
    "print(\"Büyük:\", islemler(metin, \"buyuk\"))\n",
    "print(\"Küçük:\", islemler(metin, \"kucuk\"))\n",
    "print(\"Uzunluk:\", islemler(metin, \"uzunluk\"))\n",
    "print(\"Geçersiz:\", islemler(metin, \"gecersiz\"))"
   ]
  },
  {
   "cell_type": "code",
   "execution_count": 3,
   "id": "fec0176f-f242-4e26-b1ef-80d506aa1c74",
   "metadata": {},
   "outputs": [
    {
     "name": "stdout",
     "output_type": "stream",
     "text": [
      "['ÖMER', 'NILÜFER', 'MUSTAFA', 'FATMA']\n"
     ]
    }
   ],
   "source": [
    "#Soru6:\n",
    "def isim_ekle(*args): #Birden fazla ismi büyük harf formatında listeye eklemeye yarar\n",
    "  isimler = []\n",
    "  for isim in args:\n",
    "    isimler.append(isim.upper())\n",
    "  return isimler\n",
    "    \n",
    "eklenenler = isim_ekle(\"Ömer\", \"Nilüfer\", \"Mustafa\", \"Fatma\")\n",
    "print(eklenenler) "
   ]
  },
  {
   "cell_type": "code",
   "execution_count": 5,
   "id": "777af708-e666-4036-87b0-39502c0ad62e",
   "metadata": {},
   "outputs": [
    {
     "name": "stdout",
     "output_type": "stream",
     "text": [
      "'Cümlenin uzunluğunu kontrol ediyoruz uzun mu? Yoksa kısa mı?' kelime sayısı: 9\n",
      "Cümle uzun\n",
      "'Merhaba Python!' kelime sayısı: 2\n",
      "Cümle kısa\n"
     ]
    }
   ],
   "source": [
    "#Soru7:\n",
    "def kelime_sayisi(metin):\n",
    "    \n",
    "  kelimeler = metin.split()\n",
    "  return len(kelimeler)\n",
    "\n",
    "def cumle_analiz(metin):\n",
    "  kelimeAdedi = kelime_sayisi(metin)\n",
    "  if kelimeAdedi >= 5:\n",
    "    return \"Cümle uzun\"\n",
    "  else:\n",
    "    return \"Cümle kısa\"\n",
    "\n",
    "metin1 = \"Cümlenin uzunluğunu kontrol ediyoruz uzun mu? Yoksa kısa mı?\"\n",
    "metin2 = \"Merhaba Python!\"\n",
    "\n",
    "print(f\"'{metin1}' kelime sayısı: {kelime_sayisi(metin1)}\")\n",
    "print(cumle_analiz(metin1)) \n",
    "\n",
    "print(f\"'{metin2}' kelime sayısı: {kelime_sayisi(metin2)}\")\n",
    "print(cumle_analiz(metin2))"
   ]
  },
  {
   "cell_type": "code",
   "execution_count": 26,
   "id": "fb62005d-37c4-48b2-86fc-d6d702653ffc",
   "metadata": {},
   "outputs": [
    {
     "name": "stdout",
     "output_type": "stream",
     "text": [
      "1'den 8'e kadar olan sayıların toplamı: 36\n"
     ]
    }
   ],
   "source": [
    "#Soru8: \n",
    "def toplam(n):\n",
    "  if n == 1: \n",
    "    return 1 #Durdurma koşulu\n",
    "  else:\n",
    "    return n + toplam(n - 1) # 1 den n ye kadar olan sayıların toplamını döndürür.\n",
    "\n",
    "sayi = 8\n",
    "sonuc = toplam(sayi)\n",
    "print(f\"1'den {sayi}'e kadar olan sayıların toplamı: {sonuc}\") "
   ]
  }
 ],
 "metadata": {
  "kernelspec": {
   "display_name": "Python [conda env:base] *",
   "language": "python",
   "name": "conda-base-py"
  },
  "language_info": {
   "codemirror_mode": {
    "name": "ipython",
    "version": 3
   },
   "file_extension": ".py",
   "mimetype": "text/x-python",
   "name": "python",
   "nbconvert_exporter": "python",
   "pygments_lexer": "ipython3",
   "version": "3.12.7"
  }
 },
 "nbformat": 4,
 "nbformat_minor": 5
}
